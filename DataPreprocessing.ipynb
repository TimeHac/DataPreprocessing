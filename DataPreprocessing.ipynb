{
  "cells": [
    {
      "cell_type": "markdown",
      "metadata": {
        "colab_type": "text",
        "id": "view-in-github"
      },
      "source": [
        "<a href=\"https://colab.research.google.com/github/happyrabbit/IntroDataScience/blob/master/Python/DataPreprocessing.ipynb\" target=\"_parent\"><img src=\"https://colab.research.google.com/assets/colab-badge.svg\" alt=\"Open In Colab\"/></a>"
      ]
    },
    {
      "cell_type": "markdown",
      "metadata": {
        "id": "bKk_xnzN0GIb"
      },
      "source": [
        "# Data Preprocessing Notebook\n",
        "\n",
        "In this notebook, we will show how to use python to preprocess the data. "
      ]
    },
    {
      "cell_type": "code",
      "execution_count": 35,
      "metadata": {
        "colab": {
          "base_uri": "https://localhost:8080/",
          "height": 235
        },
        "id": "qSM-naA00-3u",
        "outputId": "d381cff1-ba7e-43f4-f162-96062a20be79"
      },
      "outputs": [
        {
          "data": {
            "text/html": [
              "<div>\n",
              "<style scoped>\n",
              "    .dataframe tbody tr th:only-of-type {\n",
              "        vertical-align: middle;\n",
              "    }\n",
              "\n",
              "    .dataframe tbody tr th {\n",
              "        vertical-align: top;\n",
              "    }\n",
              "\n",
              "    .dataframe thead th {\n",
              "        text-align: right;\n",
              "    }\n",
              "</style>\n",
              "<table border=\"1\" class=\"dataframe\">\n",
              "  <thead>\n",
              "    <tr style=\"text-align: right;\">\n",
              "      <th></th>\n",
              "      <th>age</th>\n",
              "      <th>gender</th>\n",
              "      <th>income</th>\n",
              "      <th>house</th>\n",
              "      <th>store_exp</th>\n",
              "      <th>online_exp</th>\n",
              "      <th>store_trans</th>\n",
              "      <th>online_trans</th>\n",
              "      <th>Q1</th>\n",
              "      <th>Q2</th>\n",
              "      <th>Q3</th>\n",
              "      <th>Q4</th>\n",
              "      <th>Q5</th>\n",
              "      <th>Q6</th>\n",
              "      <th>Q7</th>\n",
              "      <th>Q8</th>\n",
              "      <th>Q9</th>\n",
              "      <th>Q10</th>\n",
              "      <th>segment</th>\n",
              "    </tr>\n",
              "  </thead>\n",
              "  <tbody>\n",
              "    <tr>\n",
              "      <th>0</th>\n",
              "      <td>57</td>\n",
              "      <td>Female</td>\n",
              "      <td>120963.400958</td>\n",
              "      <td>Yes</td>\n",
              "      <td>529.134363</td>\n",
              "      <td>303.512475</td>\n",
              "      <td>2</td>\n",
              "      <td>2</td>\n",
              "      <td>4</td>\n",
              "      <td>2</td>\n",
              "      <td>1</td>\n",
              "      <td>2</td>\n",
              "      <td>1</td>\n",
              "      <td>4</td>\n",
              "      <td>1</td>\n",
              "      <td>4</td>\n",
              "      <td>2</td>\n",
              "      <td>4</td>\n",
              "      <td>Price</td>\n",
              "    </tr>\n",
              "    <tr>\n",
              "      <th>1</th>\n",
              "      <td>63</td>\n",
              "      <td>Female</td>\n",
              "      <td>122008.104950</td>\n",
              "      <td>Yes</td>\n",
              "      <td>478.005781</td>\n",
              "      <td>109.529710</td>\n",
              "      <td>4</td>\n",
              "      <td>2</td>\n",
              "      <td>4</td>\n",
              "      <td>1</td>\n",
              "      <td>1</td>\n",
              "      <td>2</td>\n",
              "      <td>1</td>\n",
              "      <td>4</td>\n",
              "      <td>1</td>\n",
              "      <td>4</td>\n",
              "      <td>1</td>\n",
              "      <td>4</td>\n",
              "      <td>Price</td>\n",
              "    </tr>\n",
              "    <tr>\n",
              "      <th>2</th>\n",
              "      <td>59</td>\n",
              "      <td>Male</td>\n",
              "      <td>114202.295294</td>\n",
              "      <td>Yes</td>\n",
              "      <td>490.810731</td>\n",
              "      <td>279.249582</td>\n",
              "      <td>7</td>\n",
              "      <td>2</td>\n",
              "      <td>5</td>\n",
              "      <td>2</td>\n",
              "      <td>1</td>\n",
              "      <td>2</td>\n",
              "      <td>1</td>\n",
              "      <td>4</td>\n",
              "      <td>1</td>\n",
              "      <td>4</td>\n",
              "      <td>1</td>\n",
              "      <td>4</td>\n",
              "      <td>Price</td>\n",
              "    </tr>\n",
              "    <tr>\n",
              "      <th>3</th>\n",
              "      <td>60</td>\n",
              "      <td>Male</td>\n",
              "      <td>113616.337078</td>\n",
              "      <td>Yes</td>\n",
              "      <td>347.809004</td>\n",
              "      <td>141.669752</td>\n",
              "      <td>10</td>\n",
              "      <td>2</td>\n",
              "      <td>5</td>\n",
              "      <td>2</td>\n",
              "      <td>1</td>\n",
              "      <td>3</td>\n",
              "      <td>1</td>\n",
              "      <td>4</td>\n",
              "      <td>1</td>\n",
              "      <td>4</td>\n",
              "      <td>2</td>\n",
              "      <td>4</td>\n",
              "      <td>Price</td>\n",
              "    </tr>\n",
              "    <tr>\n",
              "      <th>4</th>\n",
              "      <td>51</td>\n",
              "      <td>Male</td>\n",
              "      <td>124252.552787</td>\n",
              "      <td>Yes</td>\n",
              "      <td>379.625940</td>\n",
              "      <td>112.237177</td>\n",
              "      <td>4</td>\n",
              "      <td>4</td>\n",
              "      <td>4</td>\n",
              "      <td>1</td>\n",
              "      <td>1</td>\n",
              "      <td>3</td>\n",
              "      <td>1</td>\n",
              "      <td>4</td>\n",
              "      <td>1</td>\n",
              "      <td>4</td>\n",
              "      <td>2</td>\n",
              "      <td>4</td>\n",
              "      <td>Price</td>\n",
              "    </tr>\n",
              "    <tr>\n",
              "      <th>5</th>\n",
              "      <td>59</td>\n",
              "      <td>Male</td>\n",
              "      <td>107661.456130</td>\n",
              "      <td>Yes</td>\n",
              "      <td>338.315403</td>\n",
              "      <td>195.687013</td>\n",
              "      <td>4</td>\n",
              "      <td>5</td>\n",
              "      <td>4</td>\n",
              "      <td>2</td>\n",
              "      <td>1</td>\n",
              "      <td>2</td>\n",
              "      <td>1</td>\n",
              "      <td>4</td>\n",
              "      <td>1</td>\n",
              "      <td>4</td>\n",
              "      <td>1</td>\n",
              "      <td>4</td>\n",
              "      <td>Price</td>\n",
              "    </tr>\n",
              "  </tbody>\n",
              "</table>\n",
              "</div>"
            ],
            "text/plain": [
              "   age  gender         income house   store_exp  ...  Q7  Q8  Q9  Q10  segment\n",
              "0   57  Female  120963.400958   Yes  529.134363  ...   1   4   2    4    Price\n",
              "1   63  Female  122008.104950   Yes  478.005781  ...   1   4   1    4    Price\n",
              "2   59    Male  114202.295294   Yes  490.810731  ...   1   4   1    4    Price\n",
              "3   60    Male  113616.337078   Yes  347.809004  ...   1   4   2    4    Price\n",
              "4   51    Male  124252.552787   Yes  379.625940  ...   1   4   2    4    Price\n",
              "5   59    Male  107661.456130   Yes  338.315403  ...   1   4   1    4    Price\n",
              "\n",
              "[6 rows x 19 columns]"
            ]
          },
          "execution_count": 35,
          "metadata": {
            "tags": []
          },
          "output_type": "execute_result"
        }
      ],
      "source": [
        "# Load packages\n",
        "import pandas as pd\n",
        "import numpy as np\n",
        "from sklearn.impute import SimpleImputer\n",
        "from sklearn.preprocessing import scale, power_transform\n",
        "from sklearn.feature_selection import VarianceThreshold\n",
        "from scipy import stats\n",
        "from statistics import mean\n",
        "import matplotlib.pyplot as plt\n",
        "from matplotlib.pyplot import hist\n",
        "from sklearn.impute import KNNImputer\n",
        "from mlxtend.plotting import scatterplotmatrix\n",
        "import seaborn as sns\n",
        "\n",
        "# Read data\n",
        "dat = pd.read_csv(\"http://bit.ly/2P5gTw4\")\n",
        "dat[:6]"
      ]
    },
    {
      "cell_type": "markdown",
      "metadata": {
        "id": "DyG-1ajT00pZ"
      },
      "source": [
        "# 01 Data Cleaning\n",
        "\n",
        "After you load the data, the first thing is to check how many variables are there, the type of variables, the distributions, and data errors. You can get descriptive statistics of the data using `describe()` function:"
      ]
    },
    {
      "cell_type": "code",
      "execution_count": 86,
      "metadata": {
        "colab": {
          "base_uri": "https://localhost:8080/",
          "height": 317
        },
        "id": "UpZ_WlAsReua",
        "outputId": "88931058-2ee4-4046-c6d3-366d9a150e5d"
      },
      "outputs": [
        {
          "data": {
            "text/html": [
              "<div>\n",
              "<style scoped>\n",
              "    .dataframe tbody tr th:only-of-type {\n",
              "        vertical-align: middle;\n",
              "    }\n",
              "\n",
              "    .dataframe tbody tr th {\n",
              "        vertical-align: top;\n",
              "    }\n",
              "\n",
              "    .dataframe thead th {\n",
              "        text-align: right;\n",
              "    }\n",
              "</style>\n",
              "<table border=\"1\" class=\"dataframe\">\n",
              "  <thead>\n",
              "    <tr style=\"text-align: right;\">\n",
              "      <th></th>\n",
              "      <th>age</th>\n",
              "      <th>income</th>\n",
              "      <th>store_exp</th>\n",
              "      <th>online_exp</th>\n",
              "      <th>store_trans</th>\n",
              "      <th>online_trans</th>\n",
              "      <th>Q1</th>\n",
              "      <th>Q2</th>\n",
              "      <th>Q3</th>\n",
              "      <th>Q4</th>\n",
              "      <th>Q5</th>\n",
              "      <th>Q6</th>\n",
              "      <th>Q7</th>\n",
              "      <th>Q8</th>\n",
              "      <th>Q9</th>\n",
              "      <th>Q10</th>\n",
              "    </tr>\n",
              "  </thead>\n",
              "  <tbody>\n",
              "    <tr>\n",
              "      <th>count</th>\n",
              "      <td>1000.000000</td>\n",
              "      <td>816.000000</td>\n",
              "      <td>1000.000000</td>\n",
              "      <td>1000.000000</td>\n",
              "      <td>1000.000000</td>\n",
              "      <td>1000.000000</td>\n",
              "      <td>1000.000000</td>\n",
              "      <td>1000.000000</td>\n",
              "      <td>1000.000000</td>\n",
              "      <td>1000.000000</td>\n",
              "      <td>1000.000000</td>\n",
              "      <td>1000.000000</td>\n",
              "      <td>1000.000000</td>\n",
              "      <td>1000.000000</td>\n",
              "      <td>1000.000000</td>\n",
              "      <td>1000.000000</td>\n",
              "    </tr>\n",
              "    <tr>\n",
              "      <th>mean</th>\n",
              "      <td>38.840000</td>\n",
              "      <td>113543.065222</td>\n",
              "      <td>1356.850523</td>\n",
              "      <td>2120.181187</td>\n",
              "      <td>5.350000</td>\n",
              "      <td>13.546000</td>\n",
              "      <td>3.101000</td>\n",
              "      <td>1.823000</td>\n",
              "      <td>1.992000</td>\n",
              "      <td>2.763000</td>\n",
              "      <td>2.945000</td>\n",
              "      <td>2.448000</td>\n",
              "      <td>3.434000</td>\n",
              "      <td>2.396000</td>\n",
              "      <td>3.085000</td>\n",
              "      <td>2.320000</td>\n",
              "    </tr>\n",
              "    <tr>\n",
              "      <th>std</th>\n",
              "      <td>16.416818</td>\n",
              "      <td>49842.287197</td>\n",
              "      <td>2774.399785</td>\n",
              "      <td>1731.224308</td>\n",
              "      <td>3.695559</td>\n",
              "      <td>7.956959</td>\n",
              "      <td>1.450139</td>\n",
              "      <td>1.168348</td>\n",
              "      <td>1.402106</td>\n",
              "      <td>1.155061</td>\n",
              "      <td>1.284377</td>\n",
              "      <td>1.438529</td>\n",
              "      <td>1.455941</td>\n",
              "      <td>1.154347</td>\n",
              "      <td>1.118493</td>\n",
              "      <td>1.136174</td>\n",
              "    </tr>\n",
              "    <tr>\n",
              "      <th>min</th>\n",
              "      <td>16.000000</td>\n",
              "      <td>41775.637023</td>\n",
              "      <td>-500.000000</td>\n",
              "      <td>68.817228</td>\n",
              "      <td>1.000000</td>\n",
              "      <td>1.000000</td>\n",
              "      <td>1.000000</td>\n",
              "      <td>1.000000</td>\n",
              "      <td>1.000000</td>\n",
              "      <td>1.000000</td>\n",
              "      <td>1.000000</td>\n",
              "      <td>1.000000</td>\n",
              "      <td>1.000000</td>\n",
              "      <td>1.000000</td>\n",
              "      <td>1.000000</td>\n",
              "      <td>1.000000</td>\n",
              "    </tr>\n",
              "    <tr>\n",
              "      <th>25%</th>\n",
              "      <td>25.000000</td>\n",
              "      <td>85832.393634</td>\n",
              "      <td>204.976456</td>\n",
              "      <td>420.341127</td>\n",
              "      <td>3.000000</td>\n",
              "      <td>6.000000</td>\n",
              "      <td>2.000000</td>\n",
              "      <td>1.000000</td>\n",
              "      <td>1.000000</td>\n",
              "      <td>2.000000</td>\n",
              "      <td>1.750000</td>\n",
              "      <td>1.000000</td>\n",
              "      <td>2.500000</td>\n",
              "      <td>1.000000</td>\n",
              "      <td>2.000000</td>\n",
              "      <td>1.000000</td>\n",
              "    </tr>\n",
              "    <tr>\n",
              "      <th>50%</th>\n",
              "      <td>36.000000</td>\n",
              "      <td>93868.682835</td>\n",
              "      <td>328.980863</td>\n",
              "      <td>1941.855436</td>\n",
              "      <td>4.000000</td>\n",
              "      <td>14.000000</td>\n",
              "      <td>3.000000</td>\n",
              "      <td>1.000000</td>\n",
              "      <td>1.000000</td>\n",
              "      <td>3.000000</td>\n",
              "      <td>4.000000</td>\n",
              "      <td>2.000000</td>\n",
              "      <td>4.000000</td>\n",
              "      <td>2.000000</td>\n",
              "      <td>4.000000</td>\n",
              "      <td>2.000000</td>\n",
              "    </tr>\n",
              "    <tr>\n",
              "      <th>75%</th>\n",
              "      <td>53.000000</td>\n",
              "      <td>124572.400926</td>\n",
              "      <td>597.293077</td>\n",
              "      <td>2440.774823</td>\n",
              "      <td>7.000000</td>\n",
              "      <td>20.000000</td>\n",
              "      <td>4.000000</td>\n",
              "      <td>2.000000</td>\n",
              "      <td>3.000000</td>\n",
              "      <td>4.000000</td>\n",
              "      <td>4.000000</td>\n",
              "      <td>4.000000</td>\n",
              "      <td>4.000000</td>\n",
              "      <td>3.000000</td>\n",
              "      <td>4.000000</td>\n",
              "      <td>3.000000</td>\n",
              "    </tr>\n",
              "    <tr>\n",
              "      <th>max</th>\n",
              "      <td>300.000000</td>\n",
              "      <td>319704.337941</td>\n",
              "      <td>50000.000000</td>\n",
              "      <td>9479.442310</td>\n",
              "      <td>20.000000</td>\n",
              "      <td>36.000000</td>\n",
              "      <td>5.000000</td>\n",
              "      <td>5.000000</td>\n",
              "      <td>5.000000</td>\n",
              "      <td>5.000000</td>\n",
              "      <td>5.000000</td>\n",
              "      <td>5.000000</td>\n",
              "      <td>5.000000</td>\n",
              "      <td>5.000000</td>\n",
              "      <td>5.000000</td>\n",
              "      <td>5.000000</td>\n",
              "    </tr>\n",
              "  </tbody>\n",
              "</table>\n",
              "</div>"
            ],
            "text/plain": [
              "               age         income  ...           Q9          Q10\n",
              "count  1000.000000     816.000000  ...  1000.000000  1000.000000\n",
              "mean     38.840000  113543.065222  ...     3.085000     2.320000\n",
              "std      16.416818   49842.287197  ...     1.118493     1.136174\n",
              "min      16.000000   41775.637023  ...     1.000000     1.000000\n",
              "25%      25.000000   85832.393634  ...     2.000000     1.000000\n",
              "50%      36.000000   93868.682835  ...     4.000000     2.000000\n",
              "75%      53.000000  124572.400926  ...     4.000000     3.000000\n",
              "max     300.000000  319704.337941  ...     5.000000     5.000000\n",
              "\n",
              "[8 rows x 16 columns]"
            ]
          },
          "execution_count": 86,
          "metadata": {
            "tags": []
          },
          "output_type": "execute_result"
        }
      ],
      "source": [
        "dat.describe()"
      ]
    },
    {
      "cell_type": "markdown",
      "metadata": {
        "id": "nrsOcjPk2aeq"
      },
      "source": [
        "You can check missing value and column type quickly using `info()`:"
      ]
    },
    {
      "cell_type": "code",
      "execution_count": 88,
      "metadata": {
        "colab": {
          "base_uri": "https://localhost:8080/",
          "height": 459
        },
        "id": "08oAgij1S-Bu",
        "outputId": "7f4a482d-1415-45bd-a690-1113c88ff20d"
      },
      "outputs": [
        {
          "name": "stdout",
          "output_type": "stream",
          "text": [
            "<class 'pandas.core.frame.DataFrame'>\n",
            "RangeIndex: 1000 entries, 0 to 999\n",
            "Data columns (total 19 columns):\n",
            " #   Column        Non-Null Count  Dtype  \n",
            "---  ------        --------------  -----  \n",
            " 0   age           1000 non-null   int64  \n",
            " 1   gender        1000 non-null   object \n",
            " 2   income        816 non-null    float64\n",
            " 3   house         1000 non-null   object \n",
            " 4   store_exp     1000 non-null   float64\n",
            " 5   online_exp    1000 non-null   float64\n",
            " 6   store_trans   1000 non-null   int64  \n",
            " 7   online_trans  1000 non-null   int64  \n",
            " 8   Q1            1000 non-null   int64  \n",
            " 9   Q2            1000 non-null   int64  \n",
            " 10  Q3            1000 non-null   int64  \n",
            " 11  Q4            1000 non-null   int64  \n",
            " 12  Q5            1000 non-null   int64  \n",
            " 13  Q6            1000 non-null   int64  \n",
            " 14  Q7            1000 non-null   int64  \n",
            " 15  Q8            1000 non-null   int64  \n",
            " 16  Q9            1000 non-null   int64  \n",
            " 17  Q10           1000 non-null   int64  \n",
            " 18  segment       1000 non-null   object \n",
            "dtypes: float64(3), int64(13), object(3)\n",
            "memory usage: 148.6+ KB\n"
          ]
        }
      ],
      "source": [
        "dat.info()"
      ]
    },
    {
      "cell_type": "markdown",
      "metadata": {
        "id": "V_yuZ8Cy2jv-"
      },
      "source": [
        "Are there any problems? Questionnaire response Q1-Q10 seem reasonable, the minimum is 1 and maximum is 5. Recall that the questionnaire score is 1-5. The number of store transactions (`store_trans`) and online transactions (`online_trans`) make sense too. Things to pay attention are:\n",
        "\n",
        "1. There are some missing values.\n",
        "2. There are outliers for store expenses (store_exp). The maximum value is 50000. Who would spend $50000 a year buying clothes?! \n",
        "3. There is a negative value ( -500) in store_exp which is not logical.\n",
        "Someone is 300 years old.\n",
        "4. How to deal with that? Depending on the real situation, if the sample size is large enough, it does not hurt to delete those problematic samples. Here we have 1000 observations. Since marketing survey is usually expensive, it is better to set these values as missing and impute them instead of deleting the rows."
      ]
    },
    {
      "cell_type": "code",
      "execution_count": 89,
      "metadata": {
        "colab": {
          "base_uri": "https://localhost:8080/",
          "height": 187
        },
        "id": "5XiCErAyS-0i",
        "outputId": "2e55c000-d6ca-44a6-f5c2-60caf879ba59"
      },
      "outputs": [
        {
          "name": "stdout",
          "output_type": "stream",
          "text": [
            "<class 'pandas.core.frame.DataFrame'>\n",
            "RangeIndex: 1000 entries, 0 to 999\n",
            "Data columns (total 3 columns):\n",
            " #   Column     Non-Null Count  Dtype  \n",
            "---  ------     --------------  -----  \n",
            " 0   income     816 non-null    float64\n",
            " 1   age        999 non-null    float64\n",
            " 2   store_exp  999 non-null    float64\n",
            "dtypes: float64(3)\n",
            "memory usage: 23.6 KB\n"
          ]
        }
      ],
      "source": [
        "# set problematic values as missings\n",
        "dat.loc[dat.age > 100, 'age'] = np.nan\n",
        "dat.loc[dat.store_exp < 0, 'store_exp'] = np.nan\n",
        "dat.loc[dat.income.isnull(), 'income'] = np.nan\n",
        "# see the results\n",
        "# some of the values are set as NA\n",
        "dat[['income','age', 'store_exp']].info()"
      ]
    },
    {
      "cell_type": "markdown",
      "metadata": {
        "id": "yFT-oAQ35zil"
      },
      "source": [
        "# 02-Missing Value"
      ]
    },
    {
      "cell_type": "markdown",
      "metadata": {
        "id": "uFFEPPgYmNvZ"
      },
      "source": [
        "## 02.1-Impute missing values with `median`, `mode`, `mean`, or `constant`\n",
        "\n",
        "You can set the imputation strategy using `strategy` argument.\n",
        "\n",
        "- If “`mean`”, then replace missing values using the mean along each column. Can only be used with numeric data.\n",
        "- If “`median`”, then replace missing values using the median along each column. Can only be used with numeric data.\n",
        "- If “`most_frequent`”, then replace missing using the most frequent value along each column. Can be used with strings or numeric data.\n",
        "- If “`constant`”, then replace missing values with fill_value. Can be used with strings or numeric data.\n"
      ]
    },
    {
      "cell_type": "code",
      "execution_count": 90,
      "metadata": {
        "id": "LrKNnHghdJnD"
      },
      "outputs": [],
      "source": [
        "impdat = dat[['income','age','store_exp']]\n",
        "imp_mean = SimpleImputer(strategy=\"mean\")\n",
        "imp_mean.fit(impdat)\n",
        "impdat = imp_mean.transform(impdat)"
      ]
    },
    {
      "cell_type": "code",
      "execution_count": 91,
      "metadata": {
        "colab": {
          "base_uri": "https://localhost:8080/",
          "height": 204
        },
        "id": "2HGrp543lZub",
        "outputId": "0ec86300-6f13-44fd-8416-213e3267ce8b"
      },
      "outputs": [
        {
          "data": {
            "text/html": [
              "<div>\n",
              "<style scoped>\n",
              "    .dataframe tbody tr th:only-of-type {\n",
              "        vertical-align: middle;\n",
              "    }\n",
              "\n",
              "    .dataframe tbody tr th {\n",
              "        vertical-align: top;\n",
              "    }\n",
              "\n",
              "    .dataframe thead th {\n",
              "        text-align: right;\n",
              "    }\n",
              "</style>\n",
              "<table border=\"1\" class=\"dataframe\">\n",
              "  <thead>\n",
              "    <tr style=\"text-align: right;\">\n",
              "      <th></th>\n",
              "      <th>income</th>\n",
              "      <th>age</th>\n",
              "      <th>store_exp</th>\n",
              "    </tr>\n",
              "  </thead>\n",
              "  <tbody>\n",
              "    <tr>\n",
              "      <th>0</th>\n",
              "      <td>120963.400958</td>\n",
              "      <td>57.0</td>\n",
              "      <td>529.134363</td>\n",
              "    </tr>\n",
              "    <tr>\n",
              "      <th>1</th>\n",
              "      <td>122008.104950</td>\n",
              "      <td>63.0</td>\n",
              "      <td>478.005781</td>\n",
              "    </tr>\n",
              "    <tr>\n",
              "      <th>2</th>\n",
              "      <td>114202.295294</td>\n",
              "      <td>59.0</td>\n",
              "      <td>490.810731</td>\n",
              "    </tr>\n",
              "    <tr>\n",
              "      <th>3</th>\n",
              "      <td>113616.337078</td>\n",
              "      <td>60.0</td>\n",
              "      <td>347.809004</td>\n",
              "    </tr>\n",
              "    <tr>\n",
              "      <th>4</th>\n",
              "      <td>124252.552787</td>\n",
              "      <td>51.0</td>\n",
              "      <td>379.625940</td>\n",
              "    </tr>\n",
              "  </tbody>\n",
              "</table>\n",
              "</div>"
            ],
            "text/plain": [
              "          income   age   store_exp\n",
              "0  120963.400958  57.0  529.134363\n",
              "1  122008.104950  63.0  478.005781\n",
              "2  114202.295294  59.0  490.810731\n",
              "3  113616.337078  60.0  347.809004\n",
              "4  124252.552787  51.0  379.625940"
            ]
          },
          "execution_count": 91,
          "metadata": {
            "tags": []
          },
          "output_type": "execute_result"
        }
      ],
      "source": [
        "impdat = pd.DataFrame(data=impdat, columns=[\"income\", \"age\",'store_exp'])\n",
        "impdat.head()"
      ]
    },
    {
      "cell_type": "markdown",
      "metadata": {
        "id": "O8Maaar6ls1f"
      },
      "source": [
        "Let us replace the columns in `dat` with the imputed columns."
      ]
    },
    {
      "cell_type": "code",
      "execution_count": 84,
      "metadata": {
        "colab": {
          "base_uri": "https://localhost:8080/",
          "height": 459
        },
        "id": "-GkEeDiKdFSa",
        "outputId": "38d9af33-e12e-4a38-8d92-dd2dba15936d"
      },
      "outputs": [
        {
          "name": "stdout",
          "output_type": "stream",
          "text": [
            "<class 'pandas.core.frame.DataFrame'>\n",
            "RangeIndex: 1000 entries, 0 to 999\n",
            "Data columns (total 19 columns):\n",
            " #   Column        Non-Null Count  Dtype  \n",
            "---  ------        --------------  -----  \n",
            " 0   gender        1000 non-null   object \n",
            " 1   house         1000 non-null   object \n",
            " 2   online_exp    1000 non-null   float64\n",
            " 3   store_trans   1000 non-null   int64  \n",
            " 4   online_trans  1000 non-null   int64  \n",
            " 5   Q1            1000 non-null   int64  \n",
            " 6   Q2            1000 non-null   int64  \n",
            " 7   Q3            1000 non-null   int64  \n",
            " 8   Q4            1000 non-null   int64  \n",
            " 9   Q5            1000 non-null   int64  \n",
            " 10  Q6            1000 non-null   int64  \n",
            " 11  Q7            1000 non-null   int64  \n",
            " 12  Q8            1000 non-null   int64  \n",
            " 13  Q9            1000 non-null   int64  \n",
            " 14  Q10           1000 non-null   int64  \n",
            " 15  segment       1000 non-null   object \n",
            " 16  income        1000 non-null   float64\n",
            " 17  age           1000 non-null   float64\n",
            " 18  store_exp     1000 non-null   float64\n",
            "dtypes: float64(4), int64(12), object(3)\n",
            "memory usage: 148.6+ KB\n"
          ]
        }
      ],
      "source": [
        "# replace the columns in `dat` with the imputed columns\n",
        "dat2 = dat.drop(columns = ['income','age','store_exp'])\n",
        "dat_imputed = pd.concat([dat2.reset_index(drop=True), impdat] , axis=1)\n",
        "dat_imputed.info()"
      ]
    },
    {
      "cell_type": "markdown",
      "metadata": {
        "id": "O3aN5h-VmPdA"
      },
      "source": [
        "## 02.2-K-nearest neighbors"
      ]
    },
    {
      "cell_type": "code",
      "execution_count": 2,
      "metadata": {
        "colab": {
          "base_uri": "https://localhost:8080/",
          "height": 204
        },
        "id": "u74TKXosSCbF",
        "outputId": "fda86125-66a7-49ce-c69d-393d10370f4c"
      },
      "outputs": [
        {
          "data": {
            "text/html": [
              "<div>\n",
              "<style scoped>\n",
              "    .dataframe tbody tr th:only-of-type {\n",
              "        vertical-align: middle;\n",
              "    }\n",
              "\n",
              "    .dataframe tbody tr th {\n",
              "        vertical-align: top;\n",
              "    }\n",
              "\n",
              "    .dataframe thead th {\n",
              "        text-align: right;\n",
              "    }\n",
              "</style>\n",
              "<table border=\"1\" class=\"dataframe\">\n",
              "  <thead>\n",
              "    <tr style=\"text-align: right;\">\n",
              "      <th></th>\n",
              "      <th>income</th>\n",
              "      <th>age</th>\n",
              "      <th>store_exp</th>\n",
              "    </tr>\n",
              "  </thead>\n",
              "  <tbody>\n",
              "    <tr>\n",
              "      <th>0</th>\n",
              "      <td>120963.400958</td>\n",
              "      <td>57.0</td>\n",
              "      <td>529.134363</td>\n",
              "    </tr>\n",
              "    <tr>\n",
              "      <th>1</th>\n",
              "      <td>122008.104950</td>\n",
              "      <td>63.0</td>\n",
              "      <td>478.005781</td>\n",
              "    </tr>\n",
              "    <tr>\n",
              "      <th>2</th>\n",
              "      <td>114202.295294</td>\n",
              "      <td>59.0</td>\n",
              "      <td>490.810731</td>\n",
              "    </tr>\n",
              "    <tr>\n",
              "      <th>3</th>\n",
              "      <td>113616.337078</td>\n",
              "      <td>60.0</td>\n",
              "      <td>347.809004</td>\n",
              "    </tr>\n",
              "    <tr>\n",
              "      <th>4</th>\n",
              "      <td>124252.552787</td>\n",
              "      <td>51.0</td>\n",
              "      <td>379.625940</td>\n",
              "    </tr>\n",
              "  </tbody>\n",
              "</table>\n",
              "</div>"
            ],
            "text/plain": [
              "          income   age   store_exp\n",
              "0  120963.400958  57.0  529.134363\n",
              "1  122008.104950  63.0  478.005781\n",
              "2  114202.295294  59.0  490.810731\n",
              "3  113616.337078  60.0  347.809004\n",
              "4  124252.552787  51.0  379.625940"
            ]
          },
          "execution_count": 2,
          "metadata": {
            "tags": []
          },
          "output_type": "execute_result"
        }
      ],
      "source": [
        "impdat = dat[['income','age','store_exp']]\n",
        "imp_knn = KNNImputer(n_neighbors=2, weights=\"uniform\")\n",
        "impdat = imp_knn.fit_transform(impdat)\n",
        "impdat = pd.DataFrame(data=impdat, columns=[\"income\", \"age\",'store_exp'])\n",
        "impdat.head()"
      ]
    },
    {
      "cell_type": "code",
      "execution_count": 3,
      "metadata": {
        "colab": {
          "base_uri": "https://localhost:8080/",
          "height": 459
        },
        "id": "AhQnjbDanLc9",
        "outputId": "6635a62a-11c3-4721-d70d-5f81998ad817"
      },
      "outputs": [
        {
          "name": "stdout",
          "output_type": "stream",
          "text": [
            "<class 'pandas.core.frame.DataFrame'>\n",
            "RangeIndex: 1000 entries, 0 to 999\n",
            "Data columns (total 19 columns):\n",
            " #   Column        Non-Null Count  Dtype  \n",
            "---  ------        --------------  -----  \n",
            " 0   gender        1000 non-null   object \n",
            " 1   house         1000 non-null   object \n",
            " 2   online_exp    1000 non-null   float64\n",
            " 3   store_trans   1000 non-null   int64  \n",
            " 4   online_trans  1000 non-null   int64  \n",
            " 5   Q1            1000 non-null   int64  \n",
            " 6   Q2            1000 non-null   int64  \n",
            " 7   Q3            1000 non-null   int64  \n",
            " 8   Q4            1000 non-null   int64  \n",
            " 9   Q5            1000 non-null   int64  \n",
            " 10  Q6            1000 non-null   int64  \n",
            " 11  Q7            1000 non-null   int64  \n",
            " 12  Q8            1000 non-null   int64  \n",
            " 13  Q9            1000 non-null   int64  \n",
            " 14  Q10           1000 non-null   int64  \n",
            " 15  segment       1000 non-null   object \n",
            " 16  income        1000 non-null   float64\n",
            " 17  age           1000 non-null   float64\n",
            " 18  store_exp     1000 non-null   float64\n",
            "dtypes: float64(4), int64(12), object(3)\n",
            "memory usage: 148.6+ KB\n"
          ]
        }
      ],
      "source": [
        "# replace the columns in `dat` with the imputed columns\n",
        "dat2 = dat.drop(columns = ['income','age','store_exp'])\n",
        "dat_imputed = pd.concat([dat2.reset_index(drop=True), impdat] , axis=1)\n",
        "dat_imputed.info()"
      ]
    },
    {
      "cell_type": "markdown",
      "metadata": {
        "id": "6IeSdF3S2FTp"
      },
      "source": [
        "# 03-Centering and Scaling\n",
        "\n",
        "Let’s standardize variables `income` and `age` from imputed data `dat_imputed`. \n",
        "\n",
        "- `axis`: axis used to compute the means and standard deviations along. If 0, standardize each column, otherwise(if 1) each row.\n",
        "- `with_mean`: if True, center the data before scaliing\n",
        "- `with_std`: if True, scale the data to unit standard deviation."
      ]
    },
    {
      "cell_type": "code",
      "execution_count": 4,
      "metadata": {
        "id": "CdcUdSaQ4Kz5"
      },
      "outputs": [],
      "source": [
        "dat_s = dat_imputed[['income', 'age']]\n",
        "dat_sed = scale(dat_s,  axis = 0, with_mean = True, with_std = True)"
      ]
    },
    {
      "cell_type": "markdown",
      "metadata": {
        "id": "esgP8QrW5lp6"
      },
      "source": [
        "After centering and scaling, the features are with mean 0 and standard deviation 1. "
      ]
    },
    {
      "cell_type": "code",
      "execution_count": 8,
      "metadata": {
        "colab": {
          "base_uri": "https://localhost:8080/",
          "height": 297
        },
        "id": "0bmIbbmj4vEK",
        "outputId": "bc3a74b0-d782-47a7-f976-8d31bd2f5796"
      },
      "outputs": [
        {
          "data": {
            "text/html": [
              "<div>\n",
              "<style scoped>\n",
              "    .dataframe tbody tr th:only-of-type {\n",
              "        vertical-align: middle;\n",
              "    }\n",
              "\n",
              "    .dataframe tbody tr th {\n",
              "        vertical-align: top;\n",
              "    }\n",
              "\n",
              "    .dataframe thead th {\n",
              "        text-align: right;\n",
              "    }\n",
              "</style>\n",
              "<table border=\"1\" class=\"dataframe\">\n",
              "  <thead>\n",
              "    <tr style=\"text-align: right;\">\n",
              "      <th></th>\n",
              "      <th>income</th>\n",
              "      <th>age</th>\n",
              "    </tr>\n",
              "  </thead>\n",
              "  <tbody>\n",
              "    <tr>\n",
              "      <th>count</th>\n",
              "      <td>1.000000e+03</td>\n",
              "      <td>1.000000e+03</td>\n",
              "    </tr>\n",
              "    <tr>\n",
              "      <th>mean</th>\n",
              "      <td>2.660649e-16</td>\n",
              "      <td>-1.370015e-16</td>\n",
              "    </tr>\n",
              "    <tr>\n",
              "      <th>std</th>\n",
              "      <td>1.000500e+00</td>\n",
              "      <td>1.000500e+00</td>\n",
              "    </tr>\n",
              "    <tr>\n",
              "      <th>min</th>\n",
              "      <td>-1.501074e+00</td>\n",
              "      <td>-1.391952e+00</td>\n",
              "    </tr>\n",
              "    <tr>\n",
              "      <th>25%</th>\n",
              "      <td>-5.806889e-01</td>\n",
              "      <td>-8.434598e-01</td>\n",
              "    </tr>\n",
              "    <tr>\n",
              "      <th>50%</th>\n",
              "      <td>-4.062407e-01</td>\n",
              "      <td>-1.730799e-01</td>\n",
              "    </tr>\n",
              "    <tr>\n",
              "      <th>75%</th>\n",
              "      <td>2.192401e-01</td>\n",
              "      <td>8.629617e-01</td>\n",
              "    </tr>\n",
              "    <tr>\n",
              "      <th>max</th>\n",
              "      <td>4.250212e+00</td>\n",
              "      <td>1.591604e+01</td>\n",
              "    </tr>\n",
              "  </tbody>\n",
              "</table>\n",
              "</div>"
            ],
            "text/plain": [
              "             income           age\n",
              "count  1.000000e+03  1.000000e+03\n",
              "mean   2.660649e-16 -1.370015e-16\n",
              "std    1.000500e+00  1.000500e+00\n",
              "min   -1.501074e+00 -1.391952e+00\n",
              "25%   -5.806889e-01 -8.434598e-01\n",
              "50%   -4.062407e-01 -1.730799e-01\n",
              "75%    2.192401e-01  8.629617e-01\n",
              "max    4.250212e+00  1.591604e+01"
            ]
          },
          "execution_count": 8,
          "metadata": {
            "tags": []
          },
          "output_type": "execute_result"
        }
      ],
      "source": [
        "dat_sed = pd.DataFrame(data=dat_sed, columns=[\"income\", \"age\"])\n",
        "dat_sed.describe()"
      ]
    }
  ],
  "metadata": {
    "colab": {
      "authorship_tag": "ABX9TyNOVMKZA938M80elS196j2r",
      "include_colab_link": true,
      "name": "DataPreprocessing.ipynb",
      "provenance": [],
      "toc_visible": true
    },
    "kernelspec": {
      "display_name": "Python 3",
      "name": "python3"
    }
  },
  "nbformat": 4,
  "nbformat_minor": 0
}
